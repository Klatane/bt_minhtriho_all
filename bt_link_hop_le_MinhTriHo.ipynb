{
  "nbformat": 4,
  "nbformat_minor": 0,
  "metadata": {
    "colab": {
      "name": "linkhople_MinhTriHo.ipynb",
      "provenance": [],
      "authorship_tag": "ABX9TyNx3uk5AgCHdJUcs9OjAmu/",
      "include_colab_link": true
    },
    "kernelspec": {
      "name": "python3",
      "display_name": "Python 3"
    }
  },
  "cells": [
    {
      "cell_type": "markdown",
      "metadata": {
        "id": "view-in-github",
        "colab_type": "text"
      },
      "source": [
        "<a href=\"https://colab.research.google.com/github/eggtgg/bt_minhtriho_all/blob/main/bt_link_hop_le_MinhTriHo.ipynb\" target=\"_parent\"><img src=\"https://colab.research.google.com/assets/colab-badge.svg\" alt=\"Open In Colab\"/></a>"
      ]
    },
    {
      "cell_type": "markdown",
      "metadata": {
        "id": "yO3H9ItxQZ9M"
      },
      "source": [
        "+ Thư viện BeautifulSoup phải dùng\r\n",
        "+ Kết hợp với thư viện có sẵn của python re"
      ]
    },
    {
      "cell_type": "code",
      "metadata": {
        "id": "I_S33rZrQPwj"
      },
      "source": [
        "import re\r\n",
        "import requests\r\n",
        "from bs4 import BeautifulSoup"
      ],
      "execution_count": 2,
      "outputs": []
    },
    {
      "cell_type": "code",
      "metadata": {
        "id": "vOyv0lmcRBRc"
      },
      "source": [
        "link = requests.get('https://vietnamnet.vn/')"
      ],
      "execution_count": 5,
      "outputs": []
    },
    {
      "cell_type": "markdown",
      "metadata": {
        "id": "ltoabuobRZ5A"
      },
      "source": [
        "Đưa mã HTML vừa được request về dạng đẹp với lệnh"
      ]
    },
    {
      "cell_type": "code",
      "metadata": {
        "id": "XFq9cB7lRSjA"
      },
      "source": [
        "link_soup = BeautifulSoup(link.text,'html.parser')"
      ],
      "execution_count": 7,
      "outputs": []
    },
    {
      "cell_type": "markdown",
      "metadata": {
        "id": "cKCL-ureSYfO"
      },
      "source": [
        "Tìm tới những chỗ nào mà thẻ a href được đặc tên, vì thẻ này sẽ được đặc tên khác nhau tùy từng trang"
      ]
    },
    {
      "cell_type": "code",
      "metadata": {
        "id": "KbqIDr3-SQYI"
      },
      "source": [
        "results = link_soup('a', attrs={'href':True})"
      ],
      "execution_count": 8,
      "outputs": []
    },
    {
      "cell_type": "code",
      "metadata": {
        "colab": {
          "base_uri": "https://localhost:8080/"
        },
        "id": "TQsXv8ZJSrtO",
        "outputId": "b72e2e71-0775-4cc3-bc02-7003a2f99e36"
      },
      "source": [
        "results[0:10]"
      ],
      "execution_count": 11,
      "outputs": [
        {
          "output_type": "execute_result",
          "data": {
            "text/plain": [
              "[<a href=\"/\"><img alt=\"Báo VietNamNet - Đọc báo Online, Tin nhanh trong ngày\" src=\"https://vnn-res.vgcloud.vn/ResV9/event/tet-2020-logo.svg\"/></a>,\n",
              " <a class=\"pos-rel hottag tag2 m-r-10\" href=\"  https://vietnamnet.vn/vn/tet-nguyen-dan/\">#TếtNguyênĐán</a>,\n",
              " <a class=\"pos-rel hottag \" href=\"https://vietnamnet.vn/vn/dai-hoi-dang-lan-thu-xiii/\" target=\"_blank\">#Đại Hội Đảng XIII</a>,\n",
              " <a class=\"button-image d-ib search-button\" href=\"#\" title=\"Tìm kiếm\"><span>Go</span></a>,\n",
              " <a class=\"button-hot bg-red t-c t-u d-b c-fff opa-7\" href=\"/vn/tin-moi-nong/\" title=\"Tin nóng\">Tin nóng</a>,\n",
              " <a class=\"button-hot btn-blue bg-blu t-c t-u d-b c-fff opa-7\" href=\"/vn/tin-tuc-24h/\" title=\"Tin tức 24h\">Tin tức 24h</a>,\n",
              " <a class=\"button-image bt-fb bt-list opa-7\" href=\"https://www.facebook.com/vietnamnet.vn\" target=\"_blank\">Facebook</a>,\n",
              " <a class=\"button-image bt-youtb bt-list opa-7\" href=\"https://www.youtube.com/vietnamnetofficial\" target=\"_blank\">Youtube</a>,\n",
              " <a class=\"login-vnnid\" href=\"javascript:void(0)\"> </a>,\n",
              " <a class=\"btn-vnnid-red\" href=\"javascript:void(0)\"> </a>]"
            ]
          },
          "metadata": {
            "tags": []
          },
          "execution_count": 11
        }
      ]
    },
    {
      "cell_type": "code",
      "metadata": {
        "id": "7cCOpmQATLVp"
      },
      "source": [
        "a= set()\r\n",
        "for i in results:\r\n",
        "    a.add(i['href'])"
      ],
      "execution_count": 13,
      "outputs": []
    },
    {
      "cell_type": "markdown",
      "metadata": {
        "id": "4qgfwJuiVdoS"
      },
      "source": [
        "Các đường link có một số không có .html ở đằng sau và htpp.... ở trước"
      ]
    },
    {
      "cell_type": "code",
      "metadata": {
        "colab": {
          "base_uri": "https://localhost:8080/"
        },
        "id": "Q0qST4BTUjev",
        "outputId": "d5f6816e-f91d-4aad-f049-d13990012f25"
      },
      "source": [
        "list(a)[0:20]"
      ],
      "execution_count": 22,
      "outputs": [
        {
          "output_type": "execute_result",
          "data": {
            "text/plain": [
              "['/vn/giai-tri/truyen-hinh/',\n",
              " '/vn/doi-song/meo-vat/',\n",
              " '/vn/cong-nghe/vien-thong/',\n",
              " '/vn/thoi-su/chinh-tri/bo-truong-cong-an-to-lam-18-can-bo-dien-t-u-quan-ly-da-bi-xu-ly-hinh-su-707342.html',\n",
              " '/vn/thoi-su/media/cam-duong-phuc-vu-dai-hoi-dang-nguoi-dan-ra-vao-ha-noi-di-duong-nao-706765.html',\n",
              " '/vn/chinh-phu-so/',\n",
              " '/vn/multimedia/',\n",
              " '/vn/tuanvietnam/dachieu/vien-canh-mo-mit-cua-donald-trump-va-tuong-lai-kho-khan-voi-joe-biden-707108.html?vnn_source=trangchu&vnn_medium=moinong3',\n",
              " '/vn/suc-khoe/hai-ca-mac-moi-covid-19-cung-chuyen-bay-tu-my-ve-viet-nam-707332.html?vnn_source=trangchu&vnn_medium=box-suc-khoe3',\n",
              " '/vn/thoi-su/quoc-hoi/',\n",
              " '/vn/giao-duc/guong-mat-tre/',\n",
              " '/vn/thu-vien/',\n",
              " '/vn/giao-duc/',\n",
              " '/vn/giao-duc/nguoi-thay/nha-giao-nhan-dan-huynh-thi-phuong-thao-thay-hoc-sinh-yeu-toi-khong-no-roi-di-707228.html?vnn_source=trangchu&vnn_medium=moinong2',\n",
              " '/vn/suc-khoe/benh-nhan-1405-xet-nghiem-13-lan-van-duong-tinh-ncov-707331.html?vnn_source=trangchu&vnn_medium=moinong10',\n",
              " '/vn/cach-mang-cong-nghiep-4-0/',\n",
              " '/vn/kinh-doanh/vef/',\n",
              " '/vn/ban-doc/tho/',\n",
              " '/vn/kinh-doanh/thi-truong/giam-sat-chat-luong-hang-hoa-khi-xuat-khau-sang-trung-quoc-707238.html?vnn_source=trangchu&vnn_medium=moinong5',\n",
              " 'https://vietnamnet.vn/vn/make-in-vietnam/?vnn_source=camp&vnn_medium=bannercotmoinong']"
            ]
          },
          "metadata": {
            "tags": []
          },
          "execution_count": 22
        }
      ]
    },
    {
      "cell_type": "markdown",
      "metadata": {
        "id": "pIXeAINiV9SQ"
      },
      "source": [
        "đây là lúc **reGex** phát huy sức mạnh"
      ]
    },
    {
      "cell_type": "code",
      "metadata": {
        "id": "0Y9yNa-oYFTm"
      },
      "source": [
        "mau = '^(http).*(html)$'\r\n",
        "url = 'https://vietnamnet.vn/vn/su-kien/diego-maradona-qua-doi-692831.html'\r\n",
        "url_2 = 'https://vietnamnet.vn/vn/tuanvietnam/dachieu/cu-soc-dai-dich-covid-19-co-trong-nguy-695215.html'"
      ],
      "execution_count": 31,
      "outputs": []
    },
    {
      "cell_type": "code",
      "metadata": {
        "id": "h4PeTNBuV1NS"
      },
      "source": [
        "# đặt biểu thức chính qui thay thế cho tất cả các link hợp lệ\r\n",
        "# đây là một biểu thức nó dạng như 'teen code' để ám chỉ những từ có điểm chung\r\n",
        "# ví dụ gray = grey có 2 cách viết, nhưng bây giờ bạn sẽ biểu diễn cả 2 từ đó với chỉ 1 biểu thức:\r\n",
        "  #  gra|ey : ở đây 'a' hoặc 'e' phải xuất hiện, nó biểu diễn cho cả grey và gray\r\n",
        "  #  biểu thức chính qui không chỉ có một, mà rất nhiều cách biểu diễn khác nhau.\r\n",
        "  # ví dụ, gr[ae]y : cũng có thể được biểu diễn cho trường hợp trên"
      ],
      "execution_count": 23,
      "outputs": []
    },
    {
      "cell_type": "code",
      "metadata": {
        "colab": {
          "base_uri": "https://localhost:8080/"
        },
        "id": "xHPutFcCYu-G",
        "outputId": "1f2b6a8c-79e6-4345-ac7a-41987eee1e26"
      },
      "source": [
        "re.match(mau,url)"
      ],
      "execution_count": 29,
      "outputs": [
        {
          "output_type": "execute_result",
          "data": {
            "text/plain": [
              "<_sre.SRE_Match object; span=(0, 67), match='https://vietnamnet.vn/vn/su-kien/diego-maradona-q>"
            ]
          },
          "metadata": {
            "tags": []
          },
          "execution_count": 29
        }
      ]
    },
    {
      "cell_type": "code",
      "metadata": {
        "colab": {
          "base_uri": "https://localhost:8080/"
        },
        "id": "i1aQRuLTZd7F",
        "outputId": "d2af86a6-04a2-4690-9474-48eed6cbd5ae"
      },
      "source": [
        "re.match(mau,url_2)"
      ],
      "execution_count": 32,
      "outputs": [
        {
          "output_type": "execute_result",
          "data": {
            "text/plain": [
              "<_sre.SRE_Match object; span=(0, 95), match='https://vietnamnet.vn/vn/tuanvietnam/dachieu/cu-s>"
            ]
          },
          "metadata": {
            "tags": []
          },
          "execution_count": 32
        }
      ]
    },
    {
      "cell_type": "markdown",
      "metadata": {
        "id": "kHNmzujOZORk"
      },
      "source": [
        "hiện như ở trên nghĩa là URL thỏa yêu cầu của mẫu đề ra"
      ]
    },
    {
      "cell_type": "markdown",
      "metadata": {
        "id": "yMjHv4pFZoPk"
      },
      "source": [
        "Đến phần tìm link hợp lý thôi"
      ]
    },
    {
      "cell_type": "code",
      "metadata": {
        "id": "Rg8ILyweZnYl"
      },
      "source": [
        "url_tim_duoc = set()\r\n",
        "for i in results:\r\n",
        "    a = i['href']\r\n",
        "    mau = '^(http).*(html|epi)$'\r\n",
        "    mau2 = '^/.*(html|epi)$'\r\n",
        "    if re.match(mau, a):\r\n",
        "        url_tim_duoc.add(a)\r\n",
        "    else:\r\n",
        "        if re.match(mau2, a):\r\n",
        "            url_lien_quan = 'https://vietnamnet.vn' + a\r\n",
        "            url_tim_duoc.add(url_lien_quan)"
      ],
      "execution_count": 35,
      "outputs": []
    },
    {
      "cell_type": "code",
      "metadata": {
        "colab": {
          "base_uri": "https://localhost:8080/"
        },
        "id": "3L4cehD0aXML",
        "outputId": "6568043e-cba2-40cc-910d-42ab68406c77"
      },
      "source": [
        "list(url_tim_duoc)[0:10]"
      ],
      "execution_count": 38,
      "outputs": [
        {
          "output_type": "execute_result",
          "data": {
            "text/plain": [
              "['https://vietnamnet.vn/vn/kinh-doanh/tai-chinh/the-tin-dung-noi-dia-phi-re-day-lui-tin-dung-den-707302.html',\n",
              " 'https://vietnamnet.vn/vn/thi-truong-tieu-dung/canh-giac-voi-hang-nhai-hang-ghe-massage-fujikashi-706845.html',\n",
              " 'https://vietnamnet.vn/vn/cong-nghe/ung-dung/trien-khai-ban-do-chung-song-an-toan-voi-covid-cho-cac-phuong-tien-van-tai-hanh-khach-707115.html',\n",
              " 'https://vietnamnet.vn/vn/hop-tac/cong-nghiep-ho-tro/chinh-sach-va-thi-truong/pho-cuc-truong-cuc-cong-nghiep-pham-tuan-anh-co-hoi-hoan-thien-chuoi-san-xuat-700771.html',\n",
              " 'https://2sao.vn/ban-trai-xam-tro-cua-hai-tu-truoc-khi-ha-canh-ben-son-tung-n-249379.html',\n",
              " 'https://vietnamnet.vn/vn/thi-truong-tieu-dung/gia-duong-trong-nuoc-co-xu-huong-tang-706014.html',\n",
              " 'https://vietnamnet.vn/vn/the-gioi/ho-so/duong-toi-nha-trang-day-chong-gai-cua-tong-thong-my-thu-46-706527.html',\n",
              " 'https://vietnamnet.vn/vn/thoi-su/chinh-tri/ban-chap-hanh-trung-uong-khoa-xiii-co-200-nguoi-707217.html',\n",
              " 'https://vietnamnet.vn/vn/thoi-su/chinh-tri/dai-hoi-xiii-dai-bieu-cao-tuoi-nhat-76-tuoi-thap-tuoi-nhat-33-tuoi-707220.html',\n",
              " 'https://vietnamnet.vn/vn/thoi-su/media/ong-nguyen-thien-nhan-thu-duc-thanh-pho-cua-tri-tue-nhan-tao-dang-song-nhat-viet-nam-706311.html']"
            ]
          },
          "metadata": {
            "tags": []
          },
          "execution_count": 38
        }
      ]
    },
    {
      "cell_type": "markdown",
      "metadata": {
        "id": "IOGk96A_alAO"
      },
      "source": [
        "khá là ổn rồi còn nếu muốn lấy đúng link của vietnamnet thì chỉ cần sửa lại mẫu chính qui"
      ]
    },
    {
      "cell_type": "code",
      "metadata": {
        "id": "Pxh9aV2Ca1X-"
      },
      "source": [
        "url_tim_duoc = set()\r\n",
        "for i in results:\r\n",
        "    a = i['href']\r\n",
        "    mau = '^(https://vietnamnet.vn).*(html|epi)$'\r\n",
        "    mau2 = '^/.*(html|epi)$'\r\n",
        "    if re.match(mau, a):\r\n",
        "        url_tim_duoc.add(a)\r\n",
        "    else:\r\n",
        "        if re.match(mau2, a):\r\n",
        "            url_lien_quan = 'https://vietnamnet.vn' + a\r\n",
        "            url_tim_duoc.add(url_lien_quan)"
      ],
      "execution_count": 39,
      "outputs": []
    },
    {
      "cell_type": "code",
      "metadata": {
        "colab": {
          "base_uri": "https://localhost:8080/"
        },
        "id": "MdEIcCOAa-9W",
        "outputId": "cb228b3e-d309-4793-cb80-4efa610561ee"
      },
      "source": [
        "list(url_tim_duoc)[0:10]"
      ],
      "execution_count": 40,
      "outputs": [
        {
          "output_type": "execute_result",
          "data": {
            "text/plain": [
              "['https://vietnamnet.vn/vn/kinh-doanh/tai-chinh/the-tin-dung-noi-dia-phi-re-day-lui-tin-dung-den-707302.html',\n",
              " 'https://vietnamnet.vn/vn/thi-truong-tieu-dung/canh-giac-voi-hang-nhai-hang-ghe-massage-fujikashi-706845.html',\n",
              " 'https://vietnamnet.vn/vn/cong-nghe/ung-dung/trien-khai-ban-do-chung-song-an-toan-voi-covid-cho-cac-phuong-tien-van-tai-hanh-khach-707115.html',\n",
              " 'https://vietnamnet.vn/vn/hop-tac/cong-nghiep-ho-tro/chinh-sach-va-thi-truong/pho-cuc-truong-cuc-cong-nghiep-pham-tuan-anh-co-hoi-hoan-thien-chuoi-san-xuat-700771.html',\n",
              " 'https://vietnamnet.vn/vn/thi-truong-tieu-dung/gia-duong-trong-nuoc-co-xu-huong-tang-706014.html',\n",
              " 'https://vietnamnet.vn/vn/the-gioi/ho-so/duong-toi-nha-trang-day-chong-gai-cua-tong-thong-my-thu-46-706527.html',\n",
              " 'https://vietnamnet.vn/vn/thoi-su/chinh-tri/ban-chap-hanh-trung-uong-khoa-xiii-co-200-nguoi-707217.html',\n",
              " 'https://vietnamnet.vn/vn/thoi-su/chinh-tri/dai-hoi-xiii-dai-bieu-cao-tuoi-nhat-76-tuoi-thap-tuoi-nhat-33-tuoi-707220.html',\n",
              " 'https://vietnamnet.vn/vn/thoi-su/media/ong-nguyen-thien-nhan-thu-duc-thanh-pho-cua-tri-tue-nhan-tao-dang-song-nhat-viet-nam-706311.html',\n",
              " 'https://vietnamnet.vn/vn/su-kien/bau-cu-tong-thong-my-2020-672524.html']"
            ]
          },
          "metadata": {
            "tags": []
          },
          "execution_count": 40
        }
      ]
    },
    {
      "cell_type": "markdown",
      "metadata": {
        "id": "DB-voDGgbGQ5"
      },
      "source": [
        "Quá OK kaka"
      ]
    }
  ]
}