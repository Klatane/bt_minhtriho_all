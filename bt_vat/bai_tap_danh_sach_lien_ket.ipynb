{
  "nbformat": 4,
  "nbformat_minor": 0,
  "metadata": {
    "colab": {
      "name": "bai_tap_danh_sach_lien_ket.ipynb",
      "provenance": [],
      "collapsed_sections": []
    },
    "kernelspec": {
      "name": "python3",
      "display_name": "Python 3"
    }
  },
  "cells": [
    {
      "cell_type": "code",
      "metadata": {
        "id": "UZEkXUizHYni"
      },
      "source": [
        "# Hàm nhập đa thức\r\n",
        "\r\n",
        "def nhapDaThuc(n):\r\n",
        "  dathuc = []\r\n",
        "  for i in reversed(range((n+1))):\r\n",
        "    a = int(input(f\"nhap he so bac {i}:  \"))\r\n",
        "    dathuc.append(a)\r\n",
        "  return dathuc    "
      ],
      "execution_count": 1,
      "outputs": []
    },
    {
      "cell_type": "code",
      "metadata": {
        "id": "5I9I63rkaU5M"
      },
      "source": [
        "# Hàm biểu diễn đa thức\r\n",
        "\r\n",
        "def bieuDienDaThuc(dathuc):\r\n",
        "  chuoi = \"\"\r\n",
        "  for (stt,i) in enumerate(reversed(dathuc)):\r\n",
        "    if stt == 0:\r\n",
        "      chuoi = str(i) + chuoi\r\n",
        "    else:\r\n",
        "      chuoi = f'{i}x^{stt} + {chuoi}'\r\n",
        "  print(chuoi)"
      ],
      "execution_count": 29,
      "outputs": []
    },
    {
      "cell_type": "code",
      "metadata": {
        "id": "8HtgD9UQerN3"
      },
      "source": [
        "# Hàm cộng 2 đa thức\r\n",
        "\r\n",
        "def congDaThuc(dathuc_1, dathuc_2):\r\n",
        "  dathuctong = []\r\n",
        "  chenlecbac = abs(len(dathuc_1) - len(dathuc_2))\r\n",
        "  if len(dathuc_1) > len(dathuc_2):\r\n",
        "    dathuc_2 = chenlecbac * [0] + dathuc_2\r\n",
        "  else:\r\n",
        "    if len(dathuc_2) > len(dathuc_1):\r\n",
        "      dathuc_1 = chenlecbac * [0] + dathuc_1\r\n",
        "  for stt in range(len(dathuc_1)):\r\n",
        "    dathuctong.append(dathuc_1[stt]+dathuc_2[stt])\r\n",
        "  bieuDienDaThuc(dathuctong)\r\n",
        "  return dathuctong\r\n",
        "    \r\n"
      ],
      "execution_count": 55,
      "outputs": []
    },
    {
      "cell_type": "code",
      "metadata": {
        "colab": {
          "base_uri": "https://localhost:8080/"
        },
        "id": "Sjy-O2DzKglN",
        "outputId": "cc43e110-814d-4b59-8c07-067cbe380940"
      },
      "source": [
        "A = nhapDaThuc(3)\r\n",
        "B = nhapDaThuc(4)"
      ],
      "execution_count": 48,
      "outputs": [
        {
          "output_type": "stream",
          "text": [
            "nhap he so bac 3:  1\n",
            "nhap he so bac 2:  2\n",
            "nhap he so bac 1:  3\n",
            "nhap he so bac 0:  1\n",
            "nhap he so bac 4:  0\n",
            "nhap he so bac 3:  2\n",
            "nhap he so bac 2:  4\n",
            "nhap he so bac 1:  1\n",
            "nhap he so bac 0:  5\n"
          ],
          "name": "stdout"
        }
      ]
    },
    {
      "cell_type": "code",
      "metadata": {
        "id": "FCjCkd8XKlTD",
        "colab": {
          "base_uri": "https://localhost:8080/"
        },
        "outputId": "421d0192-5fc2-4e25-a191-81299cfa2307"
      },
      "source": [
        "bieuDienDaThuc(A)\r\n",
        "bieuDienDaThuc(B)"
      ],
      "execution_count": 57,
      "outputs": [
        {
          "output_type": "stream",
          "text": [
            "1x^3 + 2x^2 + 3x^1 + 1\n",
            "0x^4 + 2x^3 + 4x^2 + 1x^1 + 5\n"
          ],
          "name": "stdout"
        }
      ]
    },
    {
      "cell_type": "code",
      "metadata": {
        "colab": {
          "base_uri": "https://localhost:8080/"
        },
        "id": "m4x7AAGHhFEY",
        "outputId": "792467d0-c71b-4083-fdb8-86ce19e3ce07"
      },
      "source": [
        "congDaThuc(A, B)"
      ],
      "execution_count": 56,
      "outputs": [
        {
          "output_type": "stream",
          "text": [
            "0x^4 + 3x^3 + 6x^2 + 4x^1 + 6\n"
          ],
          "name": "stdout"
        },
        {
          "output_type": "execute_result",
          "data": {
            "text/plain": [
              "[0, 3, 6, 4, 6]"
            ]
          },
          "metadata": {
            "tags": []
          },
          "execution_count": 56
        }
      ]
    }
  ]
}